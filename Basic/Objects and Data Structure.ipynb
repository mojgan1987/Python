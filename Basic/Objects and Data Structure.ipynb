## Strings 
# Step size:
mystr = 'abcdefghijk'

mystr[2:9:3] #output: cfi

# use step size to reverse the string 
mystr[::-1]

# string formatting
print('Check the order: {c} {b} {a}'.format(a='1', b='2', c='3'))

# formatting floats
result = 199/222
print('The result is {r:20.4f}'.format(r=result))

# formatted string literals
name = 'Moj'
print(f'My name is {name}')
