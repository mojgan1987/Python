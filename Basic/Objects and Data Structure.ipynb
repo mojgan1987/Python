## Strings 
# Step size:
mystr = 'abcdefghijk'

mystr[2:9:3] #output: cfi

# use step size to reverse the string 
mystr[::-1]

# string formatting
print('Check the order: {c} {b} {a}'.format(a='1', b='2', c='3'))

# formatting floats
result = 199/222
print('The result is {r:20.4f}'.format(r=result))

# formatted string literals
name = 'Moj'
print(f'My name is {name}')
print(f'My name is {name!r}')

x,y='something','more'
print("insert %s here and %s here"%(x,y))

print("'%s' and '%r' difference")
print("%s and %r"%('\thi','\tthere'))

# string alignment
print('{0:=<8} | {1:.^8} | {2:->8}'.format('Left','Center','Right'))
print('{0:<8} | {1:^8} | {2:>8}'.format(11,22,33))


# useful String functions
s.replace()
s.isupper()
s.find()


# LIST
# useful functions
mylist.extend(iterable)
mylist.insert(index, item)
mylist.remove()
mylist.reverse()
mylist.sort()


